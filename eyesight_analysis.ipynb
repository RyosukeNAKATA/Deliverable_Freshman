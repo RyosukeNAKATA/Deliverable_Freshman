{
  "nbformat": 4,
  "nbformat_minor": 0,
  "metadata": {
    "kernelspec": {
      "display_name": "Python 3",
      "language": "python",
      "name": "python3"
    },
    "language_info": {
      "codemirror_mode": {
        "name": "ipython",
        "version": 3
      },
      "file_extension": ".py",
      "mimetype": "text/x-python",
      "name": "python",
      "nbconvert_exporter": "python",
      "pygments_lexer": "ipython3",
      "version": "3.7.4"
    },
    "colab": {
      "name": "eyesight_analysis.ipynb",
      "provenance": []
    }
  },
  "cells": [
    {
      "cell_type": "code",
      "metadata": {
        "id": "pxi1rFozO_-P",
        "colab_type": "code",
        "colab": {}
      },
      "source": [
        "from sklearn import datasets\n",
        "import numpy as np\n",
        "import pandas as pd\n",
        "import matplotlib.pyplot as plt\n",
        "import time"
      ],
      "execution_count": null,
      "outputs": []
    },
    {
      "cell_type": "code",
      "metadata": {
        "id": "FiYB8Li9O_-W",
        "colab_type": "code",
        "colab": {},
        "outputId": "55f2838a-9d2c-4f09-f043-8e77da8227ae"
      },
      "source": [
        "df = pd.read_csv('71.csv', delimiter='\\t', encoding='UTF-16LE')\n",
        "df.isnull().any(axis=0)\n",
        "df"
      ],
      "execution_count": null,
      "outputs": [
        {
          "output_type": "execute_result",
          "data": {
            "text/html": [
              "<div>\n",
              "<style scoped>\n",
              "    .dataframe tbody tr th:only-of-type {\n",
              "        vertical-align: middle;\n",
              "    }\n",
              "\n",
              "    .dataframe tbody tr th {\n",
              "        vertical-align: top;\n",
              "    }\n",
              "\n",
              "    .dataframe thead th {\n",
              "        text-align: right;\n",
              "    }\n",
              "</style>\n",
              "<table border=\"1\" class=\"dataframe\">\n",
              "  <thead>\n",
              "    <tr style=\"text-align: right;\">\n",
              "      <th></th>\n",
              "      <th>レコード数</th>\n",
              "      <th>お風呂の設定温度(℃)</th>\n",
              "      <th>バイト時間(h)</th>\n",
              "      <th>今まで飼ったペットの数</th>\n",
              "      <th>兄弟・姉妹の人数</th>\n",
              "      <th>学習時間(m)</th>\n",
              "      <th>現在の視力</th>\n",
              "      <th>No</th>\n",
              "      <th>通学時間(m)</th>\n",
              "    </tr>\n",
              "  </thead>\n",
              "  <tbody>\n",
              "    <tr>\n",
              "      <td>0</td>\n",
              "      <td>1</td>\n",
              "      <td>42</td>\n",
              "      <td>0</td>\n",
              "      <td>0</td>\n",
              "      <td>0</td>\n",
              "      <td>500</td>\n",
              "      <td>0.70</td>\n",
              "      <td>1</td>\n",
              "      <td>20</td>\n",
              "    </tr>\n",
              "    <tr>\n",
              "      <td>1</td>\n",
              "      <td>1</td>\n",
              "      <td>42</td>\n",
              "      <td>0</td>\n",
              "      <td>4</td>\n",
              "      <td>1</td>\n",
              "      <td>120</td>\n",
              "      <td>1.50</td>\n",
              "      <td>2</td>\n",
              "      <td>90</td>\n",
              "    </tr>\n",
              "    <tr>\n",
              "      <td>2</td>\n",
              "      <td>1</td>\n",
              "      <td>42</td>\n",
              "      <td>0</td>\n",
              "      <td>5</td>\n",
              "      <td>2</td>\n",
              "      <td>120</td>\n",
              "      <td>0.60</td>\n",
              "      <td>3</td>\n",
              "      <td>120</td>\n",
              "    </tr>\n",
              "    <tr>\n",
              "      <td>3</td>\n",
              "      <td>1</td>\n",
              "      <td>42</td>\n",
              "      <td>0</td>\n",
              "      <td>0</td>\n",
              "      <td>1</td>\n",
              "      <td>180</td>\n",
              "      <td>0.10</td>\n",
              "      <td>4</td>\n",
              "      <td>30</td>\n",
              "    </tr>\n",
              "    <tr>\n",
              "      <td>4</td>\n",
              "      <td>1</td>\n",
              "      <td>40</td>\n",
              "      <td>0</td>\n",
              "      <td>0</td>\n",
              "      <td>1</td>\n",
              "      <td>300</td>\n",
              "      <td>1.20</td>\n",
              "      <td>5</td>\n",
              "      <td>15</td>\n",
              "    </tr>\n",
              "    <tr>\n",
              "      <td>...</td>\n",
              "      <td>...</td>\n",
              "      <td>...</td>\n",
              "      <td>...</td>\n",
              "      <td>...</td>\n",
              "      <td>...</td>\n",
              "      <td>...</td>\n",
              "      <td>...</td>\n",
              "      <td>...</td>\n",
              "      <td>...</td>\n",
              "    </tr>\n",
              "    <tr>\n",
              "      <td>58</td>\n",
              "      <td>1</td>\n",
              "      <td>39</td>\n",
              "      <td>0</td>\n",
              "      <td>2</td>\n",
              "      <td>2</td>\n",
              "      <td>170</td>\n",
              "      <td>0.03</td>\n",
              "      <td>59</td>\n",
              "      <td>5</td>\n",
              "    </tr>\n",
              "    <tr>\n",
              "      <td>59</td>\n",
              "      <td>1</td>\n",
              "      <td>38</td>\n",
              "      <td>60</td>\n",
              "      <td>5</td>\n",
              "      <td>1</td>\n",
              "      <td>180</td>\n",
              "      <td>0.02</td>\n",
              "      <td>60</td>\n",
              "      <td>10</td>\n",
              "    </tr>\n",
              "    <tr>\n",
              "      <td>60</td>\n",
              "      <td>1</td>\n",
              "      <td>40</td>\n",
              "      <td>78</td>\n",
              "      <td>4</td>\n",
              "      <td>0</td>\n",
              "      <td>120</td>\n",
              "      <td>1.00</td>\n",
              "      <td>61</td>\n",
              "      <td>90</td>\n",
              "    </tr>\n",
              "    <tr>\n",
              "      <td>61</td>\n",
              "      <td>1</td>\n",
              "      <td>39</td>\n",
              "      <td>0</td>\n",
              "      <td>0</td>\n",
              "      <td>0</td>\n",
              "      <td>180</td>\n",
              "      <td>0.01</td>\n",
              "      <td>62</td>\n",
              "      <td>80</td>\n",
              "    </tr>\n",
              "    <tr>\n",
              "      <td>62</td>\n",
              "      <td>1</td>\n",
              "      <td>40</td>\n",
              "      <td>0</td>\n",
              "      <td>0</td>\n",
              "      <td>0</td>\n",
              "      <td>30</td>\n",
              "      <td>1.50</td>\n",
              "      <td>63</td>\n",
              "      <td>30</td>\n",
              "    </tr>\n",
              "  </tbody>\n",
              "</table>\n",
              "<p>63 rows × 9 columns</p>\n",
              "</div>"
            ],
            "text/plain": [
              "    レコード数  お風呂の設定温度(℃)  バイト時間(h)  今まで飼ったペットの数  兄弟・姉妹の人数  学習時間(m)  現在の視力  No  \\\n",
              "0       1           42         0            0         0      500   0.70   1   \n",
              "1       1           42         0            4         1      120   1.50   2   \n",
              "2       1           42         0            5         2      120   0.60   3   \n",
              "3       1           42         0            0         1      180   0.10   4   \n",
              "4       1           40         0            0         1      300   1.20   5   \n",
              "..    ...          ...       ...          ...       ...      ...    ...  ..   \n",
              "58      1           39         0            2         2      170   0.03  59   \n",
              "59      1           38        60            5         1      180   0.02  60   \n",
              "60      1           40        78            4         0      120   1.00  61   \n",
              "61      1           39         0            0         0      180   0.01  62   \n",
              "62      1           40         0            0         0       30   1.50  63   \n",
              "\n",
              "    通学時間(m)  \n",
              "0        20  \n",
              "1        90  \n",
              "2       120  \n",
              "3        30  \n",
              "4        15  \n",
              "..      ...  \n",
              "58        5  \n",
              "59       10  \n",
              "60       90  \n",
              "61       80  \n",
              "62       30  \n",
              "\n",
              "[63 rows x 9 columns]"
            ]
          },
          "metadata": {
            "tags": []
          },
          "execution_count": 44
        }
      ]
    },
    {
      "cell_type": "code",
      "metadata": {
        "id": "E4ty9c-TO_-d",
        "colab_type": "code",
        "colab": {},
        "outputId": "a1ef189e-59d5-4785-8024-92ea1db38233"
      },
      "source": [
        "y = df['現在の視力']\n",
        "X = df.drop(columns=['現在の視力'])\n",
        "X.shape"
      ],
      "execution_count": null,
      "outputs": [
        {
          "output_type": "execute_result",
          "data": {
            "text/plain": [
              "(63, 8)"
            ]
          },
          "metadata": {
            "tags": []
          },
          "execution_count": 45
        }
      ]
    },
    {
      "cell_type": "code",
      "metadata": {
        "id": "-wxMBuhcO_-h",
        "colab_type": "code",
        "colab": {}
      },
      "source": [
        "from sklearn import preprocessing\n",
        "sc = preprocessing.StandardScaler() # 標準化する\n",
        "X_std = sc.fit_transform(X)"
      ],
      "execution_count": null,
      "outputs": []
    },
    {
      "cell_type": "code",
      "metadata": {
        "id": "hrGpUH8YO_-m",
        "colab_type": "code",
        "colab": {}
      },
      "source": [
        "from sklearn.model_selection import train_test_split\n",
        "X_train, X_test, y_train, y_test = train_test_split(X_std, y)"
      ],
      "execution_count": null,
      "outputs": []
    },
    {
      "cell_type": "code",
      "metadata": {
        "id": "jS7ovlSiO_-o",
        "colab_type": "code",
        "colab": {},
        "outputId": "0d98e7ab-d411-44dd-eeb3-56ff4acd8242"
      },
      "source": [
        "# 線形回帰分析\n",
        "from sklearn import linear_model\n",
        "rg = linear_model.Ridge()\n",
        "rg.fit(X_train, y_train)\n",
        "\n",
        "# 偏回帰係数を表示\n",
        "print('coefficient(偏回帰係数) = ', rg.coef_)\n",
        "# スコアを表示\n",
        "print('線形回帰分析訓練スコア : ', rg.score(X_train, y_train))\n",
        "print('線形回帰分析テストスコア : ', rg.score(X_test, y_test))"
      ],
      "execution_count": null,
      "outputs": [
        {
          "output_type": "stream",
          "text": [
            "coefficient(偏回帰係数) =  [ 0.          0.09682424 -0.02568264  0.19708865 -0.17367694 -0.16496213\n",
            " -0.07830801 -0.13951939]\n",
            "線形回帰分析訓練スコア :  0.21658708197143783\n",
            "線形回帰分析テストスコア :  -0.41035215273715253\n"
          ],
          "name": "stdout"
        }
      ]
    },
    {
      "cell_type": "code",
      "metadata": {
        "id": "J6r1PWefO_-q",
        "colab_type": "code",
        "colab": {},
        "outputId": "e2805a07-fbbf-4b5a-ad6f-0f9b955dbc0a"
      },
      "source": [
        "# 非線形回帰分析(アンサンブル手法)でやってみる\n",
        "from sklearn import ensemble\n",
        "# rg = ensemble.RandomForestRegressor()　# ランダムフォレスト\n",
        "rg = ensemble.GradientBoostingRegressor() # ブースティング\n",
        "rg.fit(X_train, y_train)"
      ],
      "execution_count": null,
      "outputs": [
        {
          "output_type": "execute_result",
          "data": {
            "text/plain": [
              "GradientBoostingRegressor(alpha=0.9, criterion='friedman_mse', init=None,\n",
              "                          learning_rate=0.1, loss='ls', max_depth=3,\n",
              "                          max_features=None, max_leaf_nodes=None,\n",
              "                          min_impurity_decrease=0.0, min_impurity_split=None,\n",
              "                          min_samples_leaf=1, min_samples_split=2,\n",
              "                          min_weight_fraction_leaf=0.0, n_estimators=100,\n",
              "                          n_iter_no_change=None, presort='auto',\n",
              "                          random_state=None, subsample=1.0, tol=0.0001,\n",
              "                          validation_fraction=0.1, verbose=0, warm_start=False)"
            ]
          },
          "metadata": {
            "tags": []
          },
          "execution_count": 49
        }
      ]
    },
    {
      "cell_type": "code",
      "metadata": {
        "id": "9nSHCU_MO_-t",
        "colab_type": "code",
        "colab": {},
        "outputId": "a92507c1-c962-49bc-f9e7-ea308d349b81"
      },
      "source": [
        "# スコアを表示\n",
        "print('「非線形回帰分析(アンサンブル手法-ブースティング)の結果」')\n",
        "print('訓練スコア : ', rg.score(X_train, y_train))\n",
        "print('テストスコア : ', rg.score(X_test, y_test))"
      ],
      "execution_count": null,
      "outputs": [
        {
          "output_type": "stream",
          "text": [
            "「非線形回帰分析(アンサンブル手法-ブースティング)の結果」\n",
            "訓練スコア :  0.9864705230232202\n",
            "テストスコア :  0.1678795732934114\n"
          ],
          "name": "stdout"
        }
      ]
    },
    {
      "cell_type": "code",
      "metadata": {
        "id": "1viz8pSLO_-v",
        "colab_type": "code",
        "colab": {},
        "outputId": "09af94c2-18b8-45eb-996b-09354209d8e7"
      },
      "source": [
        "# 現在の視力の分布\n",
        "df.groupby('現在の視力').count().iloc[:,0]"
      ],
      "execution_count": null,
      "outputs": [
        {
          "output_type": "execute_result",
          "data": {
            "text/plain": [
              "現在の視力\n",
              "0.01     4\n",
              "0.02     2\n",
              "0.03     3\n",
              "0.06     1\n",
              "0.08     1\n",
              "0.10     3\n",
              "0.20     3\n",
              "0.30     6\n",
              "0.40     1\n",
              "0.50     4\n",
              "0.60     2\n",
              "0.70     4\n",
              "0.80     4\n",
              "0.90     1\n",
              "1.00     4\n",
              "1.20     3\n",
              "1.50    16\n",
              "2.00     1\n",
              "Name: レコード数, dtype: int64"
            ]
          },
          "metadata": {
            "tags": []
          },
          "execution_count": 51
        }
      ]
    },
    {
      "cell_type": "code",
      "metadata": {
        "id": "Ktaew5viO_-y",
        "colab_type": "code",
        "colab": {},
        "outputId": "e01eabed-67bb-407b-f853-cb22da04a35a"
      },
      "source": [
        "# データフレームをコピー\n",
        "df_new = df.copy()\n",
        "\n",
        "# https://www.kikuchi-megane.co.jp/useful/faq/glasses01.html　←　視力を３つに分けるソース(0:常時メガネ必要、1:文字読むときにメガネ必要、2:メガネ不要)\n",
        "# ３つのクラスに分けた新しいラベルデータを作る（品質が、0.3未満=0, 0.3~0.7=1, 0.7以上=2）\n",
        "df_new['現在の視力'].replace({0.01:0, 0.02:0, 0.03:0, 0.06:0, 0.08:0, 0.10:0, 0.20:0, 0.30:1, 0.40:1, 0.50:1, 0.60:1, 0.70:1, 0.80:2, 0.90:2, 1.00:2, 1.20:2, 1.50:2, 2.00:2},inplace = True)\n",
        "# 新しいラベルデータ\n",
        "y_new = df_new.iloc[:,6]\n",
        "\n",
        "# それぞれのクラスに属しているデータ数をカウント\n",
        "df_new.groupby('現在の視力').count().iloc[:,0]"
      ],
      "execution_count": null,
      "outputs": [
        {
          "output_type": "execute_result",
          "data": {
            "text/plain": [
              "現在の視力\n",
              "0.0    17\n",
              "1.0    17\n",
              "2.0    29\n",
              "Name: レコード数, dtype: int64"
            ]
          },
          "metadata": {
            "tags": []
          },
          "execution_count": 52
        }
      ]
    },
    {
      "cell_type": "code",
      "metadata": {
        "id": "XsWB2hq5O_-0",
        "colab_type": "code",
        "colab": {},
        "outputId": "99b2256f-7a22-4e2f-ff38-b73e4f2c3694"
      },
      "source": [
        "# 新しい訓練・テストデータを作成\n",
        "X_train_new, X_test_new, y_train_new, y_test_new = train_test_split(X_std, y_new, stratify=y_new)\n",
        "rg.fit(X_train_new, y_train_new)\n",
        "\n",
        "# 再度正答率を求める\n",
        "print('「ラベルを貼り直した後の結果」')\n",
        "print(\"線形回帰分析正答率(学習) = \", rg.score(X_train_new, y_train_new))\n",
        "print(\"線形回帰分析正答率(テスト) = \", rg.score(X_test_new, y_test_new))"
      ],
      "execution_count": null,
      "outputs": [
        {
          "output_type": "stream",
          "text": [
            "「ラベルを貼り直した後の結果」\n",
            "線形回帰分析正答率(学習) =  0.9898525264920107\n",
            "線形回帰分析正答率(テスト) =  -0.3189960198577393\n"
          ],
          "name": "stdout"
        }
      ]
    },
    {
      "cell_type": "code",
      "metadata": {
        "id": "Xi2rC3prO_-2",
        "colab_type": "code",
        "colab": {},
        "outputId": "4b9f5477-7a0b-450c-deb6-8ef4da288ab9"
      },
      "source": [
        "# k近傍法を読み込み\n",
        "from sklearn.neighbors import KNeighborsClassifier\n",
        "\n",
        "# k近傍法を、近傍数を変えながら実行する(1,3,5....11)\n",
        "neighbors_settings = range(1, 12, 2)\n",
        "training_accuracy = []\n",
        "test_accuracy = []\n",
        "for n_neighbors in neighbors_settings:\n",
        "    clf = KNeighborsClassifier(n_neighbors=n_neighbors)\n",
        "    clf.fit(X_train_new, y_train_new)\n",
        "    training_accuracy.append(clf.score(X_train_new, y_train_new))\n",
        "    test_accuracy.append(clf.score(X_test_new, y_test_new))\n",
        "\n",
        "# グラフ描画\n",
        "plt.plot(neighbors_settings, training_accuracy, label=\"training accuracy\")\n",
        "plt.plot(neighbors_settings, test_accuracy, label=\"test accuracy\")\n",
        "plt.ylabel(\"Accuracy\")\n",
        "plt.xlabel(\"n_neighbors\")\n",
        "plt.legend()\n",
        "\n",
        "# データの情報を表示（確認用）\n",
        "print('k近傍法の結果')"
      ],
      "execution_count": null,
      "outputs": [
        {
          "output_type": "stream",
          "text": [
            "k近傍法の結果\n"
          ],
          "name": "stdout"
        },
        {
          "output_type": "display_data",
          "data": {
            "image/png": "[encoded data removed]",
            "text/plain": [
              "<Figure size 432x288 with 1 Axes>"
            ]
          },
          "metadata": {
            "tags": [],
            "needs_background": "light"
          }
        }
      ]
    },
    {
      "cell_type": "markdown",
      "metadata": {
        "id": "H2e4o3RPQv2G",
        "colab_type": "text"
      },
      "source": [
        "結果：ラベルを張り直したほうが正答率が下がった。母数が少なすぎるため確かなことは言えないが、この母数ではラベルを貼り直すよりもそのままのほうが分布が正規分布に近くなり正答率が良くなるのではないかと思う。"
      ]
    }
  ]
}